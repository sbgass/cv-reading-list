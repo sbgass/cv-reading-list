{
 "cells": [
  {
   "cell_type": "code",
   "execution_count": 1,
   "metadata": {},
   "outputs": [],
   "source": [
    "import os"
   ]
  },
  {
   "cell_type": "code",
   "execution_count": null,
   "metadata": {},
   "outputs": [],
   "source": [
    "# *[How to Safely Generate a Random Number](http://sockpuppet.org/blog/random-numbers/) (2014)"
   ]
  },
  {
   "cell_type": "code",
   "execution_count": 21,
   "metadata": {},
   "outputs": [],
   "source": [
    "#write readme document to this directory \n",
    "with open(\"Readme.md\",\"w+\") as f: #w+ overwrites the existing readme file \n",
    "    this_repo = 'cv-reading-list' \n",
    "    #traverse the root directory, and list directories as dirs and files as files\n",
    "    for root, dirs, files in os.walk(\".\"): \n",
    "        path = root.split(os.sep) #split string by os's separator\n",
    "        indent = (len(path) - 1) * \" \"\n",
    "        foldername = os.path.basename(root) \n",
    "        if \".\" == foldername[:1]: #ignore git folders that have \".\" as first character\n",
    "            continue\n",
    "        f.write(f'{indent}* {foldername}\\n')\n",
    "        for file in files:\n",
    "            year = file[:4] #get the first four digits as the year \n",
    "            title = os.path.splitext(file)[0][5:] #remove extension, then remove date\n",
    "            url = f'https://github.com/sbgass/{this_repo}/{file}'\n",
    "            f.write(f'{indent} * [{title}]({url}) ({year})\\n')"
   ]
  },
  {
   "cell_type": "code",
   "execution_count": null,
   "metadata": {},
   "outputs": [],
   "source": [
    "#rename files for \"year title\"\n",
    "#put this as script with a generic preamble at the beginning for reading list in progess and any suggestions are welcome. \n",
    "#run script, upload, check that links work and list isn't missing anything. \n",
    "#Read papers and organize into \"eras\""
   ]
  }
 ],
 "metadata": {
  "kernelspec": {
   "display_name": "Python 3",
   "language": "python",
   "name": "python3"
  },
  "language_info": {
   "codemirror_mode": {
    "name": "ipython",
    "version": 3
   },
   "file_extension": ".py",
   "mimetype": "text/x-python",
   "name": "python",
   "nbconvert_exporter": "python",
   "pygments_lexer": "ipython3",
   "version": "3.7.1"
  }
 },
 "nbformat": 4,
 "nbformat_minor": 2
}
